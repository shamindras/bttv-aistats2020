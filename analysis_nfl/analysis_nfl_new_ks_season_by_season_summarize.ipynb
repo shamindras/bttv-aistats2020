{
 "cells": [
  {
   "cell_type": "code",
   "execution_count": 23,
   "metadata": {},
   "outputs": [
    {
     "data": {
      "text/plain": [
       "1"
      ]
     },
     "execution_count": 23,
     "metadata": {},
     "output_type": "execute_result"
    }
   ],
   "source": [
    "11%2"
   ]
  },
  {
   "cell_type": "markdown",
   "metadata": {},
   "source": [
    "# Import libraries and setup"
   ]
  },
  {
   "cell_type": "code",
   "execution_count": 1,
   "metadata": {},
   "outputs": [],
   "source": [
    "import sys, os, csv, importlib"
   ]
  },
  {
   "cell_type": "code",
   "execution_count": 2,
   "metadata": {},
   "outputs": [],
   "source": [
    "import numpy as np\n",
    "import scipy as sc\n",
    "import scipy.linalg as spl\n",
    "import scipy.stats as ss\n",
    "import pandas as pd\n",
    "import matplotlib.pyplot as plt\n",
    "%matplotlib inline\n",
    "\n",
    "from nfl_utils import *"
   ]
  },
  {
   "cell_type": "code",
   "execution_count": 3,
   "metadata": {},
   "outputs": [],
   "source": [
    "# NFL_DATA_DIR = \"../data/nfl\"\n",
    "NFL_DATA_DIR = \"data/nfl\"\n",
    "SEASONS = range(2011,2016)\n",
    "ALL_RNDS = range(1, 17)"
   ]
  },
  {
   "cell_type": "markdown",
   "metadata": {},
   "source": [
    "#### Read in NFL team data"
   ]
  },
  {
   "cell_type": "code",
   "execution_count": 4,
   "metadata": {},
   "outputs": [
    {
     "data": {
      "text/plain": [
       "(32, 2)"
      ]
     },
     "execution_count": 4,
     "metadata": {},
     "output_type": "execute_result"
    }
   ],
   "source": [
    "team_id = pd.read_csv(os.path.join(NFL_DATA_DIR, \"nfl_id.csv\"))\n",
    "team_id.shape"
   ]
  },
  {
   "cell_type": "code",
   "execution_count": 5,
   "metadata": {},
   "outputs": [],
   "source": [
    "import pickle\n",
    "\n",
    "bt_out_seasons = []\n",
    "for i in SEASONS:\n",
    "    with open(\"season_\" + str(i) + \".pickle\", \"rb\") as input_file:\n",
    "        e = pickle.load(input_file)[0]\n",
    "        bt_out_seasons.append(e)"
   ]
  },
  {
   "cell_type": "code",
   "execution_count": 6,
   "metadata": {},
   "outputs": [
    {
     "data": {
      "text/html": [
       "<div>\n",
       "<style scoped>\n",
       "    .dataframe tbody tr th:only-of-type {\n",
       "        vertical-align: middle;\n",
       "    }\n",
       "\n",
       "    .dataframe tbody tr th {\n",
       "        vertical-align: top;\n",
       "    }\n",
       "\n",
       "    .dataframe thead th {\n",
       "        text-align: right;\n",
       "    }\n",
       "</style>\n",
       "<table border=\"1\" class=\"dataframe\">\n",
       "  <thead>\n",
       "    <tr style=\"text-align: right;\">\n",
       "      <th></th>\n",
       "      <th>rank</th>\n",
       "    </tr>\n",
       "  </thead>\n",
       "  <tbody>\n",
       "    <tr>\n",
       "      <td>ARI</td>\n",
       "      <td>5</td>\n",
       "    </tr>\n",
       "    <tr>\n",
       "      <td>ATL</td>\n",
       "      <td>14</td>\n",
       "    </tr>\n",
       "    <tr>\n",
       "      <td>BAL</td>\n",
       "      <td>28</td>\n",
       "    </tr>\n",
       "    <tr>\n",
       "      <td>BUF</td>\n",
       "      <td>16</td>\n",
       "    </tr>\n",
       "    <tr>\n",
       "      <td>CAR</td>\n",
       "      <td>1</td>\n",
       "    </tr>\n",
       "    <tr>\n",
       "      <td>CHI</td>\n",
       "      <td>13</td>\n",
       "    </tr>\n",
       "    <tr>\n",
       "      <td>CIN</td>\n",
       "      <td>4</td>\n",
       "    </tr>\n",
       "    <tr>\n",
       "      <td>CLE</td>\n",
       "      <td>31</td>\n",
       "    </tr>\n",
       "    <tr>\n",
       "      <td>DAL</td>\n",
       "      <td>29</td>\n",
       "    </tr>\n",
       "    <tr>\n",
       "      <td>DEN</td>\n",
       "      <td>2</td>\n",
       "    </tr>\n",
       "    <tr>\n",
       "      <td>DET</td>\n",
       "      <td>19</td>\n",
       "    </tr>\n",
       "    <tr>\n",
       "      <td>GB</td>\n",
       "      <td>6</td>\n",
       "    </tr>\n",
       "    <tr>\n",
       "      <td>HOU</td>\n",
       "      <td>18</td>\n",
       "    </tr>\n",
       "    <tr>\n",
       "      <td>IND</td>\n",
       "      <td>17</td>\n",
       "    </tr>\n",
       "    <tr>\n",
       "      <td>JAC</td>\n",
       "      <td>30</td>\n",
       "    </tr>\n",
       "    <tr>\n",
       "      <td>KC</td>\n",
       "      <td>8</td>\n",
       "    </tr>\n",
       "    <tr>\n",
       "      <td>MIA</td>\n",
       "      <td>26</td>\n",
       "    </tr>\n",
       "    <tr>\n",
       "      <td>MIN</td>\n",
       "      <td>7</td>\n",
       "    </tr>\n",
       "    <tr>\n",
       "      <td>NE</td>\n",
       "      <td>3</td>\n",
       "    </tr>\n",
       "    <tr>\n",
       "      <td>NO</td>\n",
       "      <td>24</td>\n",
       "    </tr>\n",
       "    <tr>\n",
       "      <td>NYG</td>\n",
       "      <td>22</td>\n",
       "    </tr>\n",
       "    <tr>\n",
       "      <td>NYJ</td>\n",
       "      <td>11</td>\n",
       "    </tr>\n",
       "    <tr>\n",
       "      <td>OAK</td>\n",
       "      <td>15</td>\n",
       "    </tr>\n",
       "    <tr>\n",
       "      <td>PHI</td>\n",
       "      <td>23</td>\n",
       "    </tr>\n",
       "    <tr>\n",
       "      <td>PIT</td>\n",
       "      <td>9</td>\n",
       "    </tr>\n",
       "    <tr>\n",
       "      <td>SD</td>\n",
       "      <td>27</td>\n",
       "    </tr>\n",
       "    <tr>\n",
       "      <td>SEA</td>\n",
       "      <td>10</td>\n",
       "    </tr>\n",
       "    <tr>\n",
       "      <td>SF</td>\n",
       "      <td>21</td>\n",
       "    </tr>\n",
       "    <tr>\n",
       "      <td>STL</td>\n",
       "      <td>12</td>\n",
       "    </tr>\n",
       "    <tr>\n",
       "      <td>TB</td>\n",
       "      <td>25</td>\n",
       "    </tr>\n",
       "    <tr>\n",
       "      <td>TEN</td>\n",
       "      <td>32</td>\n",
       "    </tr>\n",
       "    <tr>\n",
       "      <td>WAS</td>\n",
       "      <td>20</td>\n",
       "    </tr>\n",
       "  </tbody>\n",
       "</table>\n",
       "</div>"
      ],
      "text/plain": [
       "     rank\n",
       "ARI     5\n",
       "ATL    14\n",
       "BAL    28\n",
       "BUF    16\n",
       "CAR     1\n",
       "CHI    13\n",
       "CIN     4\n",
       "CLE    31\n",
       "DAL    29\n",
       "DEN     2\n",
       "DET    19\n",
       "GB      6\n",
       "HOU    18\n",
       "IND    17\n",
       "JAC    30\n",
       "KC      8\n",
       "MIA    26\n",
       "MIN     7\n",
       "NE      3\n",
       "NO     24\n",
       "NYG    22\n",
       "NYJ    11\n",
       "OAK    15\n",
       "PHI    23\n",
       "PIT     9\n",
       "SD     27\n",
       "SEA    10\n",
       "SF     21\n",
       "STL    12\n",
       "TB     25\n",
       "TEN    32\n",
       "WAS    20"
      ]
     },
     "execution_count": 6,
     "metadata": {},
     "output_type": "execute_result"
    }
   ],
   "source": [
    "bt_out_seasons[4]"
   ]
  },
  {
   "cell_type": "markdown",
   "metadata": {},
   "source": [
    "### ELO Estimation"
   ]
  },
  {
   "cell_type": "code",
   "execution_count": 7,
   "metadata": {},
   "outputs": [],
   "source": [
    "# Get the ELO predictions data from fivethirtyeight\n",
    "# Source: https://github.com/fivethirtyeight/data/blob/master/nfl-elo/README.md?fbclid=IwAR0vJvH9pf4oYfAqzGlgN6e6RquNJq2rf7ZmzomQHn4p7BYXuwaN3vtsSLA\n",
    "elo_ft_data = pd.read_csv(os.path.join(NFL_DATA_DIR, \"nfl_elo.csv\"), na_values='')\n",
    "\n",
    "# Get all ELO data for the specified seasons\n",
    "elo_out_seasons = [get_elo_rank_season(elo_all = elo_ft_data, season = season) for season in SEASONS]"
   ]
  },
  {
   "cell_type": "markdown",
   "metadata": {},
   "source": [
    "## Get ELO vs. BT top 10 table summary"
   ]
  },
  {
   "cell_type": "markdown",
   "metadata": {},
   "source": [
    "### Generate table summary"
   ]
  },
  {
   "cell_type": "code",
   "execution_count": 8,
   "metadata": {},
   "outputs": [],
   "source": [
    "# We want the top 10 teams to be compared\n",
    "TOP_N = 10"
   ]
  },
  {
   "cell_type": "code",
   "execution_count": 11,
   "metadata": {},
   "outputs": [],
   "source": [
    "num_seasons = len(elo_out_seasons)\n",
    "get_elo_seasons = [get_team_season(season_idx=season_idx, model_season_list=elo_out_seasons) for \n",
    "                   season_idx in range(num_seasons)]\n",
    "get_bt_seasons = [get_team_season(season_idx=season_idx, model_season_list=bt_out_seasons) for \n",
    "                  season_idx in range(num_seasons)]\n",
    "\n",
    "elo_bt_join = []\n",
    "for idx, season in enumerate(SEASONS):\n",
    "    elo_bt_join.append(get_join_elo_bt_season(season_num=season, \n",
    "                                              elo_team_season=get_elo_seasons[idx], \n",
    "                                              bt_team_season=get_bt_seasons[idx], \n",
    "                                              top_n=TOP_N))\n",
    "    \n",
    "# Create a separate rank column    \n",
    "rank_col = pd.DataFrame(list(range(1, TOP_N + 1)))\n",
    "rank_col.columns = ['rank']"
   ]
  },
  {
   "cell_type": "code",
   "execution_count": 12,
   "metadata": {},
   "outputs": [
    {
     "data": {
      "text/html": [
       "<div>\n",
       "<style scoped>\n",
       "    .dataframe tbody tr th:only-of-type {\n",
       "        vertical-align: middle;\n",
       "    }\n",
       "\n",
       "    .dataframe tbody tr th {\n",
       "        vertical-align: top;\n",
       "    }\n",
       "\n",
       "    .dataframe thead th {\n",
       "        text-align: right;\n",
       "    }\n",
       "</style>\n",
       "<table border=\"1\" class=\"dataframe\">\n",
       "  <thead>\n",
       "    <tr style=\"text-align: right;\">\n",
       "      <th></th>\n",
       "      <th>rank</th>\n",
       "      <th>ELO 2011</th>\n",
       "      <th>BT 2011</th>\n",
       "      <th>ELO 2012</th>\n",
       "      <th>BT 2012</th>\n",
       "      <th>ELO 2013</th>\n",
       "      <th>BT 2013</th>\n",
       "      <th>ELO 2014</th>\n",
       "      <th>BT 2014</th>\n",
       "      <th>ELO 2015</th>\n",
       "      <th>BT 2015</th>\n",
       "    </tr>\n",
       "  </thead>\n",
       "  <tbody>\n",
       "    <tr>\n",
       "      <td>0</td>\n",
       "      <td>1</td>\n",
       "      <td>GB</td>\n",
       "      <td>GB</td>\n",
       "      <td>NE</td>\n",
       "      <td>HOU</td>\n",
       "      <td>SEA</td>\n",
       "      <td>SEA</td>\n",
       "      <td>SEA</td>\n",
       "      <td>DEN</td>\n",
       "      <td>SEA</td>\n",
       "      <td>CAR</td>\n",
       "    </tr>\n",
       "    <tr>\n",
       "      <td>1</td>\n",
       "      <td>2</td>\n",
       "      <td>NE</td>\n",
       "      <td>SF</td>\n",
       "      <td>DEN</td>\n",
       "      <td>ATL</td>\n",
       "      <td>SF</td>\n",
       "      <td>DEN</td>\n",
       "      <td>NE</td>\n",
       "      <td>ARI</td>\n",
       "      <td>CAR</td>\n",
       "      <td>DEN</td>\n",
       "    </tr>\n",
       "    <tr>\n",
       "      <td>2</td>\n",
       "      <td>3</td>\n",
       "      <td>NO</td>\n",
       "      <td>NO</td>\n",
       "      <td>GB</td>\n",
       "      <td>SF</td>\n",
       "      <td>NE</td>\n",
       "      <td>NO</td>\n",
       "      <td>DEN</td>\n",
       "      <td>NE</td>\n",
       "      <td>ARI</td>\n",
       "      <td>NE</td>\n",
       "    </tr>\n",
       "    <tr>\n",
       "      <td>3</td>\n",
       "      <td>4</td>\n",
       "      <td>PIT</td>\n",
       "      <td>NE</td>\n",
       "      <td>SF</td>\n",
       "      <td>CHI</td>\n",
       "      <td>DEN</td>\n",
       "      <td>KC</td>\n",
       "      <td>GB</td>\n",
       "      <td>SEA</td>\n",
       "      <td>KC</td>\n",
       "      <td>CIN</td>\n",
       "    </tr>\n",
       "    <tr>\n",
       "      <td>4</td>\n",
       "      <td>5</td>\n",
       "      <td>BAL</td>\n",
       "      <td>DET</td>\n",
       "      <td>ATL</td>\n",
       "      <td>GB</td>\n",
       "      <td>CAR</td>\n",
       "      <td>SF</td>\n",
       "      <td>DAL</td>\n",
       "      <td>DAL</td>\n",
       "      <td>DEN</td>\n",
       "      <td>ARI</td>\n",
       "    </tr>\n",
       "    <tr>\n",
       "      <td>5</td>\n",
       "      <td>6</td>\n",
       "      <td>SF</td>\n",
       "      <td>BAL</td>\n",
       "      <td>SEA</td>\n",
       "      <td>NE</td>\n",
       "      <td>CIN</td>\n",
       "      <td>NE</td>\n",
       "      <td>PIT</td>\n",
       "      <td>GB</td>\n",
       "      <td>NE</td>\n",
       "      <td>GB</td>\n",
       "    </tr>\n",
       "    <tr>\n",
       "      <td>6</td>\n",
       "      <td>7</td>\n",
       "      <td>ATL</td>\n",
       "      <td>PIT</td>\n",
       "      <td>NYG</td>\n",
       "      <td>DEN</td>\n",
       "      <td>NO</td>\n",
       "      <td>IND</td>\n",
       "      <td>BAL</td>\n",
       "      <td>PHI</td>\n",
       "      <td>PIT</td>\n",
       "      <td>MIN</td>\n",
       "    </tr>\n",
       "    <tr>\n",
       "      <td>7</td>\n",
       "      <td>8</td>\n",
       "      <td>PHI</td>\n",
       "      <td>HOU</td>\n",
       "      <td>CIN</td>\n",
       "      <td>SEA</td>\n",
       "      <td>ARI</td>\n",
       "      <td>CAR</td>\n",
       "      <td>IND</td>\n",
       "      <td>SD</td>\n",
       "      <td>CIN</td>\n",
       "      <td>KC</td>\n",
       "    </tr>\n",
       "    <tr>\n",
       "      <td>8</td>\n",
       "      <td>9</td>\n",
       "      <td>SD</td>\n",
       "      <td>CHI</td>\n",
       "      <td>BAL</td>\n",
       "      <td>BAL</td>\n",
       "      <td>IND</td>\n",
       "      <td>ARI</td>\n",
       "      <td>ARI</td>\n",
       "      <td>DET</td>\n",
       "      <td>GB</td>\n",
       "      <td>PIT</td>\n",
       "    </tr>\n",
       "    <tr>\n",
       "      <td>9</td>\n",
       "      <td>10</td>\n",
       "      <td>HOU</td>\n",
       "      <td>ATL</td>\n",
       "      <td>HOU</td>\n",
       "      <td>IND</td>\n",
       "      <td>SD</td>\n",
       "      <td>CIN</td>\n",
       "      <td>CIN</td>\n",
       "      <td>KC</td>\n",
       "      <td>MIN</td>\n",
       "      <td>SEA</td>\n",
       "    </tr>\n",
       "  </tbody>\n",
       "</table>\n",
       "</div>"
      ],
      "text/plain": [
       "   rank ELO 2011 BT 2011 ELO 2012 BT 2012 ELO 2013 BT 2013 ELO 2014 BT 2014  \\\n",
       "0     1       GB      GB       NE     HOU      SEA     SEA      SEA     DEN   \n",
       "1     2       NE      SF      DEN     ATL       SF     DEN       NE     ARI   \n",
       "2     3       NO      NO       GB      SF       NE      NO      DEN      NE   \n",
       "3     4      PIT      NE       SF     CHI      DEN      KC       GB     SEA   \n",
       "4     5      BAL     DET      ATL      GB      CAR      SF      DAL     DAL   \n",
       "5     6       SF     BAL      SEA      NE      CIN      NE      PIT      GB   \n",
       "6     7      ATL     PIT      NYG     DEN       NO     IND      BAL     PHI   \n",
       "7     8      PHI     HOU      CIN     SEA      ARI     CAR      IND      SD   \n",
       "8     9       SD     CHI      BAL     BAL      IND     ARI      ARI     DET   \n",
       "9    10      HOU     ATL      HOU     IND       SD     CIN      CIN      KC   \n",
       "\n",
       "  ELO 2015 BT 2015  \n",
       "0      SEA     CAR  \n",
       "1      CAR     DEN  \n",
       "2      ARI      NE  \n",
       "3       KC     CIN  \n",
       "4      DEN     ARI  \n",
       "5       NE      GB  \n",
       "6      PIT     MIN  \n",
       "7      CIN      KC  \n",
       "8       GB     PIT  \n",
       "9      MIN     SEA  "
      ]
     },
     "execution_count": 12,
     "metadata": {},
     "output_type": "execute_result"
    }
   ],
   "source": [
    "out_elo_bt = pd.concat(elo_bt_join[-5:], sort=False, axis=1)\n",
    "out_elo_bt = pd.concat([rank_col, out_elo_bt], sort=False, axis=1)\n",
    "out_elo_bt"
   ]
  },
  {
   "cell_type": "code",
   "execution_count": 13,
   "metadata": {},
   "outputs": [
    {
     "name": "stdout",
     "output_type": "stream",
     "text": [
      "\\begin{tabular}{c|c|c|c|c|c|c|c|c|c|c|c|c|c|}\n",
      "\\toprule\n",
      " rank & ELO 2011 & BT 2011 & ELO 2012 & BT 2012 & ELO 2013 & BT 2013 & ELO 2014 & BT 2014 & ELO 2015 & BT 2015 \\\\\n",
      "\\midrule\n",
      "    1 &       GB &      GB &       NE &     HOU &      SEA &     SEA &      SEA &     DEN &      SEA &     CAR \\\\\n",
      "    2 &       NE &      SF &      DEN &     ATL &       SF &     DEN &       NE &     ARI &      CAR &     DEN \\\\\n",
      "    3 &       NO &      NO &       GB &      SF &       NE &      NO &      DEN &      NE &      ARI &      NE \\\\\n",
      "    4 &      PIT &      NE &       SF &     CHI &      DEN &      KC &       GB &     SEA &       KC &     CIN \\\\\n",
      "    5 &      BAL &     DET &      ATL &      GB &      CAR &      SF &      DAL &     DAL &      DEN &     ARI \\\\\n",
      "    6 &       SF &     BAL &      SEA &      NE &      CIN &      NE &      PIT &      GB &       NE &      GB \\\\\n",
      "    7 &      ATL &     PIT &      NYG &     DEN &       NO &     IND &      BAL &     PHI &      PIT &     MIN \\\\\n",
      "    8 &      PHI &     HOU &      CIN &     SEA &      ARI &     CAR &      IND &      SD &      CIN &      KC \\\\\n",
      "    9 &       SD &     CHI &      BAL &     BAL &      IND &     ARI &      ARI &     DET &       GB &     PIT \\\\\n",
      "   10 &      HOU &     ATL &      HOU &     IND &       SD &     CIN &      CIN &      KC &      MIN &     SEA \\\\\n",
      "\\bottomrule\n",
      "\\end{tabular}\n",
      "\n"
     ]
    }
   ],
   "source": [
    "print(out_elo_bt.to_latex(index_names=False, escape=False, index=False, \n",
    "                          column_format='c|c|c|c|c|c|c|c|c|c|c|c|c|c|', \n",
    "                          header=True, bold_rows=True))"
   ]
  },
  {
   "cell_type": "markdown",
   "metadata": {},
   "source": [
    "## Calculate average differences for each season from ELO to BTL"
   ]
  },
  {
   "cell_type": "code",
   "execution_count": 16,
   "metadata": {},
   "outputs": [
    {
     "data": {
      "text/plain": [
       "ARI     3\n",
       "ATL    17\n",
       "BAL    20\n",
       "BUF    13\n",
       "CAR     2\n",
       "CHI    25\n",
       "CIN     8\n",
       "CLE    30\n",
       "DAL    24\n",
       "DEN     5\n",
       "DET    15\n",
       "GB      9\n",
       "HOU    11\n",
       "IND    18\n",
       "JAC    31\n",
       "KC      4\n",
       "MIA    26\n",
       "MIN    10\n",
       "NE      6\n",
       "NO     22\n",
       "NYG    21\n",
       "NYJ    12\n",
       "OAK    23\n",
       "PHI    16\n",
       "PIT     7\n",
       "SD     27\n",
       "SEA     1\n",
       "SF     28\n",
       "STL    19\n",
       "TB     29\n",
       "TEN    32\n",
       "WAS    14\n",
       "Name: rank, dtype: int64"
      ]
     },
     "execution_count": 16,
     "metadata": {},
     "output_type": "execute_result"
    }
   ],
   "source": [
    "elo_out_seasons[4]['rank'].sort_index()"
   ]
  },
  {
   "cell_type": "code",
   "execution_count": 68,
   "metadata": {},
   "outputs": [
    {
     "data": {
      "text/plain": [
       "ARI     5\n",
       "ATL    14\n",
       "BAL    28\n",
       "BUF    16\n",
       "CAR     1\n",
       "CHI    13\n",
       "CIN     4\n",
       "CLE    31\n",
       "DAL    29\n",
       "DEN     2\n",
       "DET    19\n",
       "GB      6\n",
       "HOU    18\n",
       "IND    17\n",
       "JAC    30\n",
       "KC      8\n",
       "MIA    26\n",
       "MIN     7\n",
       "NE      3\n",
       "NO     24\n",
       "NYG    22\n",
       "NYJ    11\n",
       "OAK    15\n",
       "PHI    23\n",
       "PIT     9\n",
       "SD     27\n",
       "SEA    10\n",
       "SF     21\n",
       "STL    12\n",
       "TB     25\n",
       "TEN    32\n",
       "WAS    20\n",
       "Name: rank, dtype: int64"
      ]
     },
     "execution_count": 68,
     "metadata": {},
     "output_type": "execute_result"
    }
   ],
   "source": [
    "bt_out_seasons[6]['rank'].sort_index()"
   ]
  },
  {
   "cell_type": "code",
   "execution_count": 17,
   "metadata": {},
   "outputs": [],
   "source": [
    "i = 4\n",
    "a = elo_out_seasons[i]['rank'].sort_index()\n",
    "b = bt_out_seasons[i]['rank'].sort_index()\n",
    "index = np.union1d(np.where(a <= 10),np.where(b <= 10))"
   ]
  },
  {
   "cell_type": "code",
   "execution_count": 18,
   "metadata": {},
   "outputs": [
    {
     "data": {
      "text/plain": [
       "ARI     5\n",
       "CAR     1\n",
       "CIN     4\n",
       "DEN     2\n",
       "GB      6\n",
       "KC      8\n",
       "MIN     7\n",
       "NE      3\n",
       "PIT     9\n",
       "SEA    10\n",
       "Name: rank, dtype: int64"
      ]
     },
     "execution_count": 18,
     "metadata": {},
     "output_type": "execute_result"
    }
   ],
   "source": [
    "b[index]"
   ]
  },
  {
   "cell_type": "code",
   "execution_count": 19,
   "metadata": {},
   "outputs": [
    {
     "data": {
      "text/plain": [
       "ARI     3\n",
       "CAR     2\n",
       "CIN     8\n",
       "DEN     5\n",
       "GB      9\n",
       "KC      4\n",
       "MIN    10\n",
       "NE      6\n",
       "PIT     7\n",
       "SEA     1\n",
       "Name: rank, dtype: int64"
      ]
     },
     "execution_count": 19,
     "metadata": {},
     "output_type": "execute_result"
    }
   ],
   "source": [
    "a[index]"
   ]
  },
  {
   "cell_type": "code",
   "execution_count": 20,
   "metadata": {},
   "outputs": [
    {
     "name": "stdout",
     "output_type": "stream",
     "text": [
      "12\n",
      "12\n",
      "11\n",
      "14\n",
      "10\n"
     ]
    }
   ],
   "source": [
    "av_dif = []\n",
    "TOP_N = 10\n",
    "for i in range(5):\n",
    "    a = elo_out_seasons[i]['rank'].sort_index()\n",
    "    b = bt_out_seasons[i]['rank'].sort_index()\n",
    "    index = np.union1d(np.where(a <= 10),np.where(b <= 10))\n",
    "#     index = np.intersect1d(np.where(a <= 10),np.where(b <= 10))\n",
    "    print(len(index))\n",
    "    av_dif.append(np.mean(abs(a[index]-b[index])))"
   ]
  },
  {
   "cell_type": "code",
   "execution_count": 21,
   "metadata": {},
   "outputs": [
    {
     "data": {
      "text/plain": [
       "[4.166666666666667, 5.0, 3.5454545454545454, 4.285714285714286, 3.4]"
      ]
     },
     "execution_count": 21,
     "metadata": {},
     "output_type": "execute_result"
    }
   ],
   "source": [
    "av_dif"
   ]
  }
 ],
 "metadata": {
  "kernelspec": {
   "display_name": "Python 3",
   "language": "python",
   "name": "python3"
  },
  "language_info": {
   "codemirror_mode": {
    "name": "ipython",
    "version": 3
   },
   "file_extension": ".py",
   "mimetype": "text/x-python",
   "name": "python",
   "nbconvert_exporter": "python",
   "pygments_lexer": "ipython3",
   "version": "3.7.4"
  }
 },
 "nbformat": 4,
 "nbformat_minor": 2
}
