{
 "cells": [
  {
   "cell_type": "markdown",
   "metadata": {},
   "source": [
    "## Import libraries and setup"
   ]
  },
  {
   "cell_type": "code",
   "execution_count": 1,
   "metadata": {},
   "outputs": [],
   "source": [
    "import sys, os, csv, importlib\n",
    "import numpy as np\n",
    "import scipy as sc\n",
    "import scipy.linalg as spl\n",
    "import scipy.stats as ss\n",
    "import pandas as pd\n",
    "import matplotlib.pyplot as plt\n",
    "%matplotlib inline"
   ]
  },
  {
   "cell_type": "code",
   "execution_count": 2,
   "metadata": {},
   "outputs": [],
   "source": [
    "# Import our custom optimization utils\n",
    "sys.path.insert(0, '../python/')\n",
    "import grad_utils as model\n",
    "import cv_utils\n",
    "import opt_utils\n",
    "import ks_utils as ks\n",
    "from nfl_utils import *"
   ]
  },
  {
   "cell_type": "markdown",
   "metadata": {},
   "source": [
    "### B-T model estimation"
   ]
  },
  {
   "cell_type": "markdown",
   "metadata": {},
   "source": [
    "#### Define global variables"
   ]
  },
  {
   "cell_type": "code",
   "execution_count": 3,
   "metadata": {},
   "outputs": [],
   "source": [
    "# NFL_DATA_DIR = \"../data/nfl\"\n",
    "NFL_DATA_DIR = \"data/nfl\"\n",
    "SEASON = 2013\n",
    "ALL_RNDS = range(1, 17)"
   ]
  },
  {
   "cell_type": "markdown",
   "metadata": {},
   "source": [
    "#### Read in NFL team data"
   ]
  },
  {
   "cell_type": "code",
   "execution_count": 4,
   "metadata": {},
   "outputs": [
    {
     "data": {
      "text/plain": [
       "(32, 2)"
      ]
     },
     "execution_count": 4,
     "metadata": {},
     "output_type": "execute_result"
    }
   ],
   "source": [
    "team_id = pd.read_csv(os.path.join(NFL_DATA_DIR, \"nfl_id.csv\"))\n",
    "team_id.shape"
   ]
  },
  {
   "cell_type": "markdown",
   "metadata": {},
   "source": [
    "#### Run Dynamic Bradley-Terry Model"
   ]
  },
  {
   "cell_type": "code",
   "execution_count": 5,
   "metadata": {
    "scrolled": true
   },
   "outputs": [
    {
     "name": "stderr",
     "output_type": "stream",
     "text": [
      "E:\\Dropbox\\Research\\AISTAT2020\\final\\nfl_utils.py:69: RuntimeWarning: invalid value encountered in greater_equal\n",
      "  pwise_diff[pwise_diff >= 0] = 1\n",
      "E:\\Dropbox\\Research\\AISTAT2020\\final\\nfl_utils.py:70: RuntimeWarning: invalid value encountered in less\n",
      "  pwise_diff[pwise_diff < 0] = 0\n"
     ]
    },
    {
     "name": "stdout",
     "output_type": "stream",
     "text": [
      "1-th cv done\n",
      "2-th cv done\n",
      "season 2013 finished. \n",
      "\n",
      "--- 135.05383491516113 seconds ---\n"
     ]
    }
   ],
   "source": [
    "import time\n",
    "start_time = time.time()\n",
    "bt_out_seasons = [get_final_rank_season(data_dir=NFL_DATA_DIR, \n",
    "                                        season=SEASON, \n",
    "                                        team_id=team_id, num_loocv = 2,\n",
    "                                        all_rnds=ALL_RNDS,\n",
    "                                        plot=False)]\n",
    "print(\"--- %s seconds ---\" % (time.time() - start_time))"
   ]
  },
  {
   "cell_type": "code",
   "execution_count": 6,
   "metadata": {},
   "outputs": [
    {
     "name": "stdout",
     "output_type": "stream",
     "text": [
      "1-th cv done\n",
      "2-th cv done\n",
      "3-th cv done\n",
      "4-th cv done\n",
      "5-th cv done\n",
      "6-th cv done\n",
      "7-th cv done\n",
      "8-th cv done\n",
      "9-th cv done\n",
      "10-th cv done\n",
      "11-th cv done\n",
      "12-th cv done\n",
      "13-th cv done\n",
      "14-th cv done\n",
      "15-th cv done\n",
      "16-th cv done\n",
      "17-th cv done\n",
      "18-th cv done\n",
      "19-th cv done\n",
      "20-th cv done\n",
      "21-th cv done\n",
      "22-th cv done\n",
      "23-th cv done\n",
      "24-th cv done\n",
      "25-th cv done\n",
      "26-th cv done\n",
      "27-th cv done\n",
      "28-th cv done\n",
      "29-th cv done\n",
      "30-th cv done\n",
      "31-th cv done\n",
      "32-th cv done\n",
      "33-th cv done\n",
      "34-th cv done\n",
      "35-th cv done\n",
      "36-th cv done\n",
      "37-th cv done\n",
      "38-th cv done\n",
      "39-th cv done\n",
      "40-th cv done\n",
      "41-th cv done\n",
      "42-th cv done\n",
      "43-th cv done\n",
      "44-th cv done\n",
      "45-th cv done\n",
      "46-th cv done\n",
      "47-th cv done\n",
      "48-th cv done\n",
      "49-th cv done\n",
      "50-th cv done\n",
      "51-th cv done\n",
      "52-th cv done\n",
      "53-th cv done\n",
      "54-th cv done\n",
      "55-th cv done\n",
      "56-th cv done\n",
      "57-th cv done\n",
      "58-th cv done\n",
      "59-th cv done\n",
      "60-th cv done\n",
      "61-th cv done\n",
      "62-th cv done\n",
      "63-th cv done\n",
      "64-th cv done\n",
      "65-th cv done\n",
      "66-th cv done\n",
      "67-th cv done\n",
      "68-th cv done\n",
      "69-th cv done\n",
      "70-th cv done\n",
      "71-th cv done\n",
      "72-th cv done\n",
      "73-th cv done\n",
      "74-th cv done\n",
      "75-th cv done\n",
      "76-th cv done\n",
      "77-th cv done\n",
      "78-th cv done\n",
      "79-th cv done\n",
      "80-th cv done\n",
      "81-th cv done\n",
      "82-th cv done\n",
      "83-th cv done\n",
      "84-th cv done\n",
      "85-th cv done\n",
      "86-th cv done\n",
      "87-th cv done\n",
      "88-th cv done\n",
      "89-th cv done\n",
      "90-th cv done\n",
      "91-th cv done\n",
      "92-th cv done\n",
      "93-th cv done\n",
      "94-th cv done\n",
      "95-th cv done\n",
      "96-th cv done\n",
      "97-th cv done\n",
      "98-th cv done\n",
      "99-th cv done\n",
      "100-th cv done\n",
      "101-th cv done\n",
      "102-th cv done\n",
      "103-th cv done\n",
      "104-th cv done\n",
      "105-th cv done\n",
      "106-th cv done\n",
      "107-th cv done\n",
      "108-th cv done\n",
      "109-th cv done\n",
      "110-th cv done\n",
      "111-th cv done\n",
      "112-th cv done\n",
      "113-th cv done\n",
      "114-th cv done\n",
      "115-th cv done\n",
      "116-th cv done\n",
      "117-th cv done\n",
      "118-th cv done\n",
      "119-th cv done\n",
      "120-th cv done\n",
      "121-th cv done\n",
      "122-th cv done\n",
      "123-th cv done\n",
      "124-th cv done\n",
      "125-th cv done\n",
      "126-th cv done\n",
      "127-th cv done\n",
      "128-th cv done\n",
      "129-th cv done\n",
      "130-th cv done\n",
      "131-th cv done\n",
      "132-th cv done\n",
      "133-th cv done\n",
      "134-th cv done\n",
      "135-th cv done\n",
      "136-th cv done\n",
      "137-th cv done\n",
      "138-th cv done\n",
      "139-th cv done\n",
      "140-th cv done\n",
      "141-th cv done\n",
      "142-th cv done\n",
      "143-th cv done\n",
      "144-th cv done\n",
      "145-th cv done\n",
      "146-th cv done\n",
      "147-th cv done\n",
      "148-th cv done\n",
      "149-th cv done\n",
      "150-th cv done\n",
      "151-th cv done\n",
      "152-th cv done\n",
      "153-th cv done\n",
      "154-th cv done\n",
      "155-th cv done\n",
      "156-th cv done\n",
      "157-th cv done\n",
      "158-th cv done\n",
      "159-th cv done\n",
      "160-th cv done\n",
      "161-th cv done\n",
      "162-th cv done\n",
      "163-th cv done\n",
      "164-th cv done\n",
      "165-th cv done\n",
      "166-th cv done\n",
      "167-th cv done\n",
      "168-th cv done\n",
      "169-th cv done\n",
      "170-th cv done\n",
      "171-th cv done\n",
      "172-th cv done\n",
      "173-th cv done\n",
      "174-th cv done\n",
      "175-th cv done\n",
      "176-th cv done\n",
      "177-th cv done\n",
      "178-th cv done\n",
      "179-th cv done\n",
      "180-th cv done\n",
      "181-th cv done\n",
      "182-th cv done\n",
      "183-th cv done\n",
      "184-th cv done\n",
      "185-th cv done\n",
      "186-th cv done\n",
      "187-th cv done\n",
      "188-th cv done\n",
      "189-th cv done\n",
      "190-th cv done\n",
      "191-th cv done\n",
      "192-th cv done\n",
      "193-th cv done\n",
      "194-th cv done\n",
      "195-th cv done\n",
      "196-th cv done\n",
      "197-th cv done\n",
      "198-th cv done\n",
      "199-th cv done\n",
      "200-th cv done\n",
      "season 2013 finished. \n",
      "\n",
      "--- 8978.530668735504 seconds ---\n"
     ]
    }
   ],
   "source": [
    "import time\n",
    "start_time = time.time()\n",
    "bt_out_seasons = [get_final_rank_season(data_dir=NFL_DATA_DIR, \n",
    "                                        season=SEASON, \n",
    "                                        team_id=team_id, num_loocv = 200,\n",
    "                                        all_rnds=ALL_RNDS,\n",
    "                                        plot=False)]\n",
    "print(\"--- %s seconds ---\" % (time.time() - start_time))"
   ]
  },
  {
   "cell_type": "code",
   "execution_count": 7,
   "metadata": {},
   "outputs": [],
   "source": [
    "import pickle\n",
    "with open('season_' + str(SEASON) + '.pickle', 'wb') as f:\n",
    "    pickle.dump(bt_out_seasons, f)"
   ]
  }
 ],
 "metadata": {
  "kernelspec": {
   "display_name": "Python 3",
   "language": "python",
   "name": "python3"
  },
  "language_info": {
   "codemirror_mode": {
    "name": "ipython",
    "version": 3
   },
   "file_extension": ".py",
   "mimetype": "text/x-python",
   "name": "python",
   "nbconvert_exporter": "python",
   "pygments_lexer": "ipython3",
   "version": "3.7.4"
  }
 },
 "nbformat": 4,
 "nbformat_minor": 2
}
