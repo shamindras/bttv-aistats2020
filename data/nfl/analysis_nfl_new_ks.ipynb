{
 "cells": [
  {
   "cell_type": "markdown",
   "metadata": {},
   "source": [
    "# Import libraries and setup"
   ]
  },
  {
   "cell_type": "code",
   "execution_count": 1,
   "metadata": {},
   "outputs": [],
   "source": [
    "import sys, os, csv, importlib"
   ]
  },
  {
   "cell_type": "code",
   "execution_count": 2,
   "metadata": {},
   "outputs": [],
   "source": [
    "import numpy as np\n",
    "import scipy as sc\n",
    "import scipy.linalg as spl\n",
    "import scipy.stats as ss\n",
    "import pandas as pd\n",
    "import matplotlib.pyplot as plt\n",
    "%matplotlib inline"
   ]
  },
  {
   "cell_type": "code",
   "execution_count": 3,
   "metadata": {},
   "outputs": [],
   "source": [
    "# Import our custom optimization utils\n",
    "sys.path.insert(0, '../python/')\n",
    "import grad_utils as model\n",
    "import cv_utils\n",
    "import opt_utils"
   ]
  },
  {
   "cell_type": "markdown",
   "metadata": {},
   "source": [
    "# Key utilities to import ELO + Run BT model"
   ]
  },
  {
   "cell_type": "code",
   "execution_count": 10,
   "metadata": {},
   "outputs": [],
   "source": [
    "def max_change(beta):\n",
    "    '''\n",
    "    get the maximal change in rank in neighboring timepoint based on beta\n",
    "    '''\n",
    "    T,N = beta.shape\n",
    "    arg = np.array([ss.rankdata(-beta[ii]) for ii in range(T)])\n",
    "    return np.max(abs(arg[1:] - arg[:-1]))\n",
    "\n",
    "def newton_l2_sq(data,l_penalty):\n",
    "    '''\n",
    "    Newton\n",
    "    '''\n",
    "    # intiialize optimization\n",
    "    max_iter = 1000\n",
    "    ths = 1e-12\n",
    "\n",
    "    # vanilla PGD parameters\n",
    "    step_size = 0.03\n",
    "\n",
    "    # backtracking parameters\n",
    "    step_init = 0.1\n",
    "    max_back = 100\n",
    "    a = 0.2\n",
    "    b = 0.5\n",
    "    \n",
    "    T, N = data.shape[0:2]\n",
    "    beta = np.zeros(data.shape[:2]).reshape((N * T,1))\n",
    "    step_size = 1\n",
    "\n",
    "    # initialize record\n",
    "    objective_nt = [objective_l2_sq(beta, data, l_penalty)]\n",
    "\n",
    "    # iteration\n",
    "    for i in range(max_iter):\n",
    "        # compute gradient\n",
    "        gradient = grad_l2_sq(beta, data, l_penalty)[1:]\n",
    "        hessian = hess_l2_sq(beta, data, l_penalty)[1:,1:]\n",
    "        # newton update\n",
    "        beta[1:] = beta[1:] - step_size * sc.linalg.solve(hessian, gradient)\n",
    "\n",
    "        # objective value\n",
    "        objective_nt.append(objective_l2_sq(beta, data, l_penalty))\n",
    "\n",
    "        if objective_nt[-2] - objective_nt[-1] < ths:\n",
    "            break\n",
    "\n",
    "    if i >= max_iter:\n",
    "        print(\"Not converged.\")\n",
    "        \n",
    "    return beta.reshape((T,N))\n",
    "\n",
    "def plot_nfl_round(beta, team_id,season):\n",
    "    T, N = beta.shape\n",
    "    year = range(1,17)\n",
    "    f = plt.figure(1, figsize = (6,4))\n",
    "\n",
    "    for i in range(N):\n",
    "        plt.plot(year,beta[:,i], label=team_id['name'][i], color = np.random.rand(3,))\n",
    "    plt.xlabel(\"round\")\n",
    "    plt.ylabel(\"latent parameter\")\n",
    "    plt.legend(loc='upper left', bbox_to_anchor=(1, 1, 1, 0),prop={'size': 5})\n",
    "    plt.ticklabel_format(style='plain',axis='x',useOffset=False)\n",
    "\n",
    "    f.savefig(\"nfl_round_\"+str(season)+\".pdf\", bbox_inches='tight')\n",
    "        \n",
    "\n",
    "def get_single_round_pwise(rnd_num, nfl_data_dir, season):\n",
    "    \"\"\"\n",
    "    Gets the pairwise numpy array of score diffences across teams for a single\n",
    "       round in a season\n",
    "    \"\"\"\n",
    "    fname = \"round\" + \"_\" + str(rnd_num).zfill(2) + \".csv\"\n",
    "    fpath = os.path.join(nfl_data_dir, str(season), fname)\n",
    "    rnd_df = pd.read_csv(fpath)\n",
    "    pwise_diff = rnd_df.pivot(index='team', columns='team_other',values='diff').values\n",
    "    pwise_diff[pwise_diff >= 0] = 1\n",
    "    pwise_diff[pwise_diff < 0] = 0\n",
    "    pwise_diff[np.isnan(pwise_diff)] = 0\n",
    "    return pwise_diff\n",
    "\n",
    "def get_final_rank_season(data_dir, season, team_id, all_rnds, plot = True, \n",
    "                          loocv= True, threshold = 3):\n",
    "    game_matrix_list = np.array([get_single_round_pwise(rnd_num=rnd, nfl_data_dir=data_dir, season=season) \n",
    "                                  for rnd in ALL_RNDS])\n",
    "    \n",
    "    if loocv:\n",
    "        lambdas_smooth = np.linspace(0, 5, 21)[1:]\n",
    "        lambda_cv, nll_cv, beta = cv_utils.loocv(game_matrix_list, lambdas_smooth, \n",
    "                                                 opt_utils.newton_l2_sq, \n",
    "                                                 verbose='cv', out='terminal')\n",
    "    \n",
    "    else:\n",
    "        lam_list = np.arange(1,80) * 0.5\n",
    "        val_list = []\n",
    "\n",
    "        data = game_matrix_list\n",
    "        for i in range(len(lam_list)):\n",
    "            val_list.append(max_change(beta = newton_l2_sq(data,lam_list[i])))\n",
    "\n",
    "        # plt.plot(lam_list,val_list)\n",
    "\n",
    "        while val_list[-1] > threshold:\n",
    "            threshold += 1\n",
    "\n",
    "        ix = next(idx for idx, value in enumerate(val_list) if value <= threshold)\n",
    "        lambda_star = lam_list[ix]\n",
    "\n",
    "        beta = newton_l2_sq(data,lambda_star)\n",
    "\n",
    "    if plot:\n",
    "        plot_nfl_round(beta = beta,team_id = team_id,season = SEASON)\n",
    "\n",
    "    arg = np.argsort(-beta,axis=1)\n",
    "    rank_list = pd.DataFrame(data={(i):team_id['name'][arg[i-1,]].values for i in range(1,17)})\n",
    "    rank_last = rank_list[16]\n",
    "    rank_last = pd.DataFrame({'rank':range(len(rank_last))},index = rank_last.values)\n",
    "    \n",
    "    return rank_last.sort_index() + 1\n",
    "\n",
    "def get_elo_rank_season(elo_all, season):\n",
    "    elo_season = elo_all.iloc[np.where(elo_all['season'] == season)]\n",
    "    elo_season = elo_season[pd.isnull(elo_season['playoff'])]\n",
    "    a = elo_season[['team1','elo1_post']]\n",
    "    a.columns = ['team','elo']\n",
    "    a = a.reset_index()\n",
    "    b = elo_season[['team2','elo2_post']]\n",
    "    b.columns = ['team','elo']\n",
    "    b = b.reset_index()\n",
    "\n",
    "    c = pd.concat([a,b])\n",
    "    c = c.sort_values(by = ['index'])    \n",
    "    d = c.groupby(by = ['team']).last()\n",
    "    \n",
    "    x = d.index.values\n",
    "    x[np.where(x == 'LAR')] = 'STL'\n",
    "    x[np.where(x == 'LAC')] = 'SD'\n",
    "    x[np.where(x == 'JAX')] = 'JAC'\n",
    "    x[np.where(x == 'WSH')] = 'WAS'\n",
    "    \n",
    "    elo_rank = pd.DataFrame({'rank': ss.rankdata(-d['elo'])},index = x).sort_index()\n",
    "    \n",
    "    return elo_rank"
   ]
  },
  {
   "cell_type": "markdown",
   "metadata": {},
   "source": [
    "# Time unit: round"
   ]
  },
  {
   "cell_type": "markdown",
   "metadata": {},
   "source": [
    "### B-T model estimation"
   ]
  },
  {
   "cell_type": "markdown",
   "metadata": {},
   "source": [
    "#### Define global variables"
   ]
  },
  {
   "cell_type": "code",
   "execution_count": 5,
   "metadata": {},
   "outputs": [],
   "source": [
    "NFL_DATA_DIR = \"../data/nfl\"\n",
    "SEASONS = range(2009,2016)\n",
    "ALL_RNDS = range(1, 17)"
   ]
  },
  {
   "cell_type": "markdown",
   "metadata": {},
   "source": [
    "#### Read in NFL team data"
   ]
  },
  {
   "cell_type": "code",
   "execution_count": 6,
   "metadata": {},
   "outputs": [
    {
     "data": {
      "text/plain": [
       "(32, 2)"
      ]
     },
     "execution_count": 6,
     "metadata": {},
     "output_type": "execute_result"
    }
   ],
   "source": [
    "team_id = pd.read_csv(os.path.join(NFL_DATA_DIR, \"nfl_id.csv\"))\n",
    "team_id.shape"
   ]
  },
  {
   "cell_type": "markdown",
   "metadata": {},
   "source": [
    "#### Run Bradley-Terry Model"
   ]
  },
  {
   "cell_type": "code",
   "execution_count": 11,
   "metadata": {},
   "outputs": [
    {
     "name": "stderr",
     "output_type": "stream",
     "text": [
      "/home/hbong/anaconda3/lib/python3.7/site-packages/ipykernel_launcher.py:76: RuntimeWarning: invalid value encountered in greater_equal\n",
      "/home/hbong/anaconda3/lib/python3.7/site-packages/ipykernel_launcher.py:77: RuntimeWarning: invalid value encountered in less\n"
     ]
    },
    {
     "ename": "KeyboardInterrupt",
     "evalue": "",
     "output_type": "error",
     "traceback": [
      "\u001b[0;31m---------------------------------------------------------------------------\u001b[0m",
      "\u001b[0;31mKeyboardInterrupt\u001b[0m                         Traceback (most recent call last)",
      "\u001b[0;32m<ipython-input-11-697f2bfadbd1>\u001b[0m in \u001b[0;36m<module>\u001b[0;34m\u001b[0m\n\u001b[1;32m      3\u001b[0m                                         \u001b[0mteam_id\u001b[0m\u001b[0;34m=\u001b[0m\u001b[0mteam_id\u001b[0m\u001b[0;34m,\u001b[0m\u001b[0;34m\u001b[0m\u001b[0;34m\u001b[0m\u001b[0m\n\u001b[1;32m      4\u001b[0m                                         \u001b[0mall_rnds\u001b[0m\u001b[0;34m=\u001b[0m\u001b[0mALL_RNDS\u001b[0m\u001b[0;34m,\u001b[0m\u001b[0;34m\u001b[0m\u001b[0;34m\u001b[0m\u001b[0m\n\u001b[0;32m----> 5\u001b[0;31m                                         plot=False) for season in SEASONS]\n\u001b[0m",
      "\u001b[0;32m<ipython-input-11-697f2bfadbd1>\u001b[0m in \u001b[0;36m<listcomp>\u001b[0;34m(.0)\u001b[0m\n\u001b[1;32m      3\u001b[0m                                         \u001b[0mteam_id\u001b[0m\u001b[0;34m=\u001b[0m\u001b[0mteam_id\u001b[0m\u001b[0;34m,\u001b[0m\u001b[0;34m\u001b[0m\u001b[0;34m\u001b[0m\u001b[0m\n\u001b[1;32m      4\u001b[0m                                         \u001b[0mall_rnds\u001b[0m\u001b[0;34m=\u001b[0m\u001b[0mALL_RNDS\u001b[0m\u001b[0;34m,\u001b[0m\u001b[0;34m\u001b[0m\u001b[0;34m\u001b[0m\u001b[0m\n\u001b[0;32m----> 5\u001b[0;31m                                         plot=False) for season in SEASONS]\n\u001b[0m",
      "\u001b[0;32m<ipython-input-10-4bc96e8d65ec>\u001b[0m in \u001b[0;36mget_final_rank_season\u001b[0;34m(data_dir, season, team_id, all_rnds, plot, loocv, threshold)\u001b[0m\n\u001b[1;32m     88\u001b[0m         lambda_cv, nll_cv, beta = cv_utils.loocv(game_matrix_list, lambdas_smooth, \n\u001b[1;32m     89\u001b[0m                                                  \u001b[0mopt_utils\u001b[0m\u001b[0;34m.\u001b[0m\u001b[0mnewton_l2_sq\u001b[0m\u001b[0;34m,\u001b[0m\u001b[0;34m\u001b[0m\u001b[0;34m\u001b[0m\u001b[0m\n\u001b[0;32m---> 90\u001b[0;31m                                                  verbose='all', out='file')\n\u001b[0m\u001b[1;32m     91\u001b[0m \u001b[0;34m\u001b[0m\u001b[0m\n\u001b[1;32m     92\u001b[0m     \u001b[0;32melse\u001b[0m\u001b[0;34m:\u001b[0m\u001b[0;34m\u001b[0m\u001b[0;34m\u001b[0m\u001b[0m\n",
      "\u001b[0;32m~/bradley-terry-convexopt/python/cv_utils.py\u001b[0m in \u001b[0;36mloocv\u001b[0;34m(data, lambdas_smooth, opt_fn, num_loocv, get_estimate, verbose, out, **kwargs)\u001b[0m\n\u001b[1;32m     68\u001b[0m         \u001b[0;32mfor\u001b[0m \u001b[0mj\u001b[0m\u001b[0;34m,\u001b[0m \u001b[0mlambda_smooth\u001b[0m \u001b[0;32min\u001b[0m \u001b[0menumerate\u001b[0m\u001b[0;34m(\u001b[0m\u001b[0mlambdas_smooth\u001b[0m\u001b[0;34m)\u001b[0m\u001b[0;34m:\u001b[0m\u001b[0;34m\u001b[0m\u001b[0;34m\u001b[0m\u001b[0m\n\u001b[1;32m     69\u001b[0m             _, beta_loocv = opt_fn(data_loocv, lambda_smooth, beta_init=betas[j],\n\u001b[0;32m---> 70\u001b[0;31m                                    verbose=(verbose in ['all']), out=out, **kwargs)\n\u001b[0m\u001b[1;32m     71\u001b[0m             \u001b[0mbeta_loocv\u001b[0m \u001b[0;34m=\u001b[0m \u001b[0mbeta_loocv\u001b[0m\u001b[0;34m.\u001b[0m\u001b[0mreshape\u001b[0m\u001b[0;34m(\u001b[0m\u001b[0mdata\u001b[0m\u001b[0;34m.\u001b[0m\u001b[0mshape\u001b[0m\u001b[0;34m[\u001b[0m\u001b[0;34m:\u001b[0m\u001b[0;36m2\u001b[0m\u001b[0;34m]\u001b[0m\u001b[0;34m)\u001b[0m\u001b[0;34m\u001b[0m\u001b[0;34m\u001b[0m\u001b[0m\n\u001b[1;32m     72\u001b[0m             \u001b[0mloglikes_loocv\u001b[0m\u001b[0;34m[\u001b[0m\u001b[0mj\u001b[0m\u001b[0;34m]\u001b[0m \u001b[0;34m+=\u001b[0m \u001b[0mbeta_loocv\u001b[0m\u001b[0;34m[\u001b[0m\u001b[0mrand_index\u001b[0m\u001b[0;34m[\u001b[0m\u001b[0;36m0\u001b[0m\u001b[0;34m]\u001b[0m\u001b[0;34m,\u001b[0m\u001b[0mrand_index\u001b[0m\u001b[0;34m[\u001b[0m\u001b[0;36m1\u001b[0m\u001b[0;34m]\u001b[0m\u001b[0;34m]\u001b[0m\u001b[0;31m \u001b[0m\u001b[0;31m\\\u001b[0m\u001b[0;34m\u001b[0m\u001b[0;34m\u001b[0m\u001b[0m\n",
      "\u001b[0;32m~/bradley-terry-convexopt/python/opt_utils.py\u001b[0m in \u001b[0;36mnewton_l2_sq\u001b[0;34m(data, l_penalty, max_iter, ths, step_init, max_back, a, b, beta_init, verbose, out)\u001b[0m\n\u001b[1;32m    114\u001b[0m         \u001b[0;31m# compute gradient\u001b[0m\u001b[0;34m\u001b[0m\u001b[0;34m\u001b[0m\u001b[0;34m\u001b[0m\u001b[0m\n\u001b[1;32m    115\u001b[0m         \u001b[0mgradient\u001b[0m \u001b[0;34m=\u001b[0m \u001b[0mgrad_l2_sq\u001b[0m\u001b[0;34m(\u001b[0m\u001b[0mbeta\u001b[0m\u001b[0;34m,\u001b[0m \u001b[0mdata\u001b[0m\u001b[0;34m,\u001b[0m \u001b[0ml_penalty\u001b[0m\u001b[0;34m)\u001b[0m\u001b[0;34m[\u001b[0m\u001b[0;36m1\u001b[0m\u001b[0;34m:\u001b[0m\u001b[0;34m]\u001b[0m\u001b[0;34m\u001b[0m\u001b[0;34m\u001b[0m\u001b[0m\n\u001b[0;32m--> 116\u001b[0;31m         \u001b[0mhessian\u001b[0m \u001b[0;34m=\u001b[0m \u001b[0mhess_l2_sq\u001b[0m\u001b[0;34m(\u001b[0m\u001b[0mbeta\u001b[0m\u001b[0;34m,\u001b[0m \u001b[0mdata\u001b[0m\u001b[0;34m,\u001b[0m \u001b[0ml_penalty\u001b[0m\u001b[0;34m)\u001b[0m\u001b[0;34m[\u001b[0m\u001b[0;36m1\u001b[0m\u001b[0;34m:\u001b[0m\u001b[0;34m,\u001b[0m\u001b[0;36m1\u001b[0m\u001b[0;34m:\u001b[0m\u001b[0;34m]\u001b[0m\u001b[0;34m\u001b[0m\u001b[0;34m\u001b[0m\u001b[0m\n\u001b[0m\u001b[1;32m    117\u001b[0m         \u001b[0;31m# backtracking\u001b[0m\u001b[0;34m\u001b[0m\u001b[0;34m\u001b[0m\u001b[0;34m\u001b[0m\u001b[0m\n\u001b[1;32m    118\u001b[0m         \u001b[0mobj_old\u001b[0m \u001b[0;34m=\u001b[0m \u001b[0mnp\u001b[0m\u001b[0;34m.\u001b[0m\u001b[0minf\u001b[0m\u001b[0;34m\u001b[0m\u001b[0;34m\u001b[0m\u001b[0m\n",
      "\u001b[0;32m~/bradley-terry-convexopt/python/opt_utils.py\u001b[0m in \u001b[0;36mhess_l2_sq\u001b[0;34m(beta, game_matrix_list, l)\u001b[0m\n\u001b[1;32m     72\u001b[0m     \u001b[0ml2_hess\u001b[0m \u001b[0;34m=\u001b[0m \u001b[0mmodel\u001b[0m\u001b[0;34m.\u001b[0m\u001b[0mhess_nl\u001b[0m\u001b[0;34m(\u001b[0m\u001b[0mbeta\u001b[0m\u001b[0;34m,\u001b[0m \u001b[0mgame_matrix_list\u001b[0m\u001b[0;34m)\u001b[0m\u001b[0;34m\u001b[0m\u001b[0;34m\u001b[0m\u001b[0m\n\u001b[1;32m     73\u001b[0m     \u001b[0moff_diag\u001b[0m \u001b[0;34m=\u001b[0m \u001b[0mnp\u001b[0m\u001b[0;34m.\u001b[0m\u001b[0marray\u001b[0m\u001b[0;34m(\u001b[0m\u001b[0;34m[\u001b[0m\u001b[0;36m2\u001b[0m\u001b[0;34m]\u001b[0m \u001b[0;34m+\u001b[0m \u001b[0;34m[\u001b[0m\u001b[0;36m0\u001b[0m\u001b[0;34m]\u001b[0m \u001b[0;34m*\u001b[0m \u001b[0;34m(\u001b[0m\u001b[0mN\u001b[0m \u001b[0;34m-\u001b[0m \u001b[0;36m1\u001b[0m\u001b[0;34m)\u001b[0m \u001b[0;34m+\u001b[0m \u001b[0;34m[\u001b[0m\u001b[0;34m-\u001b[0m\u001b[0;36m1\u001b[0m\u001b[0;34m]\u001b[0m \u001b[0;34m+\u001b[0m \u001b[0;34m[\u001b[0m\u001b[0;36m0\u001b[0m\u001b[0;34m]\u001b[0m \u001b[0;34m*\u001b[0m \u001b[0;34m(\u001b[0m\u001b[0mN\u001b[0m \u001b[0;34m*\u001b[0m \u001b[0;34m(\u001b[0m\u001b[0mT\u001b[0m \u001b[0;34m-\u001b[0m \u001b[0;36m1\u001b[0m\u001b[0;34m)\u001b[0m \u001b[0;34m-\u001b[0m \u001b[0;36m1\u001b[0m\u001b[0;34m)\u001b[0m\u001b[0;34m)\u001b[0m\u001b[0;34m\u001b[0m\u001b[0;34m\u001b[0m\u001b[0m\n\u001b[0;32m---> 74\u001b[0;31m     \u001b[0ml2_hess\u001b[0m \u001b[0;34m+=\u001b[0m \u001b[0ml\u001b[0m \u001b[0;34m*\u001b[0m \u001b[0;36m2\u001b[0m \u001b[0;34m*\u001b[0m \u001b[0msc\u001b[0m\u001b[0;34m.\u001b[0m\u001b[0mlinalg\u001b[0m\u001b[0;34m.\u001b[0m\u001b[0mtoeplitz\u001b[0m\u001b[0;34m(\u001b[0m\u001b[0moff_diag\u001b[0m\u001b[0;34m,\u001b[0m\u001b[0moff_diag\u001b[0m\u001b[0;34m)\u001b[0m\u001b[0;34m\u001b[0m\u001b[0;34m\u001b[0m\u001b[0m\n\u001b[0m\u001b[1;32m     75\u001b[0m     \u001b[0ml2_hess\u001b[0m\u001b[0;34m[\u001b[0m\u001b[0;36m0\u001b[0m\u001b[0;34m:\u001b[0m\u001b[0mN\u001b[0m\u001b[0;34m,\u001b[0m\u001b[0;36m0\u001b[0m\u001b[0;34m:\u001b[0m\u001b[0mN\u001b[0m\u001b[0;34m]\u001b[0m \u001b[0;34m-=\u001b[0m \u001b[0ml\u001b[0m \u001b[0;34m*\u001b[0m \u001b[0;36m2\u001b[0m \u001b[0;34m*\u001b[0m \u001b[0mnp\u001b[0m\u001b[0;34m.\u001b[0m\u001b[0mdiag\u001b[0m\u001b[0;34m(\u001b[0m\u001b[0mnp\u001b[0m\u001b[0;34m.\u001b[0m\u001b[0mones\u001b[0m\u001b[0;34m(\u001b[0m\u001b[0mN\u001b[0m\u001b[0;34m)\u001b[0m\u001b[0;34m)\u001b[0m\u001b[0;34m\u001b[0m\u001b[0;34m\u001b[0m\u001b[0m\n\u001b[1;32m     76\u001b[0m     \u001b[0ml2_hess\u001b[0m\u001b[0;34m[\u001b[0m\u001b[0;34m-\u001b[0m\u001b[0mN\u001b[0m\u001b[0;34m:\u001b[0m\u001b[0;34m,\u001b[0m\u001b[0;34m-\u001b[0m\u001b[0mN\u001b[0m\u001b[0;34m:\u001b[0m\u001b[0;34m]\u001b[0m \u001b[0;34m-=\u001b[0m \u001b[0ml\u001b[0m \u001b[0;34m*\u001b[0m \u001b[0;36m2\u001b[0m \u001b[0;34m*\u001b[0m \u001b[0mnp\u001b[0m\u001b[0;34m.\u001b[0m\u001b[0mdiag\u001b[0m\u001b[0;34m(\u001b[0m\u001b[0mnp\u001b[0m\u001b[0;34m.\u001b[0m\u001b[0mones\u001b[0m\u001b[0;34m(\u001b[0m\u001b[0mN\u001b[0m\u001b[0;34m)\u001b[0m\u001b[0;34m)\u001b[0m\u001b[0;34m\u001b[0m\u001b[0;34m\u001b[0m\u001b[0m\n",
      "\u001b[0;31mKeyboardInterrupt\u001b[0m: "
     ]
    }
   ],
   "source": [
    "bt_out_seasons = [get_final_rank_season(data_dir=NFL_DATA_DIR, \n",
    "                                        season=season, \n",
    "                                        team_id=team_id, \n",
    "                                        all_rnds=ALL_RNDS,\n",
    "                                        plot=False) for season in SEASONS]"
   ]
  },
  {
   "cell_type": "markdown",
   "metadata": {},
   "source": [
    "### ELO Estimation"
   ]
  },
  {
   "cell_type": "code",
   "execution_count": 23,
   "metadata": {},
   "outputs": [],
   "source": [
    "# Get the ELO predictions data from fivethirtyeight\n",
    "# Source: https://github.com/fivethirtyeight/data/blob/master/nfl-elo/README.md?fbclid=IwAR0vJvH9pf4oYfAqzGlgN6e6RquNJq2rf7ZmzomQHn4p7BYXuwaN3vtsSLA\n",
    "elo_ft_data = pd.read_csv(os.path.join(NFL_DATA_DIR, \"nfl_elo.csv\"), na_values='')\n",
    "\n",
    "# Get all ELO data for the specified seasons\n",
    "elo_out_seasons = [get_elo_rank_season(elo_all = elo_ft_data, season = season) for season in SEASONS]"
   ]
  },
  {
   "cell_type": "markdown",
   "metadata": {},
   "source": [
    "## Get ELO vs. BT top 10 table summary"
   ]
  },
  {
   "cell_type": "code",
   "execution_count": 114,
   "metadata": {},
   "outputs": [],
   "source": [
    "def get_team_season(season_idx, model_season_list):\n",
    "    model_season = model_season_list[season_idx]\n",
    "    model_season['rank'] = model_season['rank'].astype(np.int64)\n",
    "    model_season['team'] = model_season.index\n",
    "    model_season = model_season.sort_values(by='rank', ascending=True)\n",
    "    return model_season\n",
    "\n",
    "def get_join_elo_bt_season(season_num, elo_team_season, bt_team_season, top_n):\n",
    "    top_season = elo_team_season.merge(bt_team_season, how='left', on=['rank'])\n",
    "    top_season.columns = [\"rank\", f\"ELO {season_num}\", f\"BT {season_num}\"]\n",
    "    top_season = top_season[[f\"ELO {season_num}\", f\"BT {season_num}\"]].head(top_n)\n",
    "    #top_season = top_season.reset_index(drop=True)\n",
    "    return top_season"
   ]
  },
  {
   "cell_type": "markdown",
   "metadata": {},
   "source": [
    "### Generate table summary"
   ]
  },
  {
   "cell_type": "code",
   "execution_count": 115,
   "metadata": {},
   "outputs": [],
   "source": [
    "# We want the top 10 teams to be compared\n",
    "TOP_N = 10"
   ]
  },
  {
   "cell_type": "code",
   "execution_count": 143,
   "metadata": {},
   "outputs": [],
   "source": [
    "num_seasons = len(elo_out_seasons)\n",
    "get_elo_seasons = [get_team_season(season_idx=season_idx, model_season_list=elo_out_seasons) for \n",
    "                   season_idx in range(num_seasons)]\n",
    "get_bt_seasons = [get_team_season(season_idx=season_idx, model_season_list=bt_out_seasons) for \n",
    "                  season_idx in range(num_seasons)]\n",
    "\n",
    "elo_bt_join = []\n",
    "for idx, season in enumerate(SEASONS):\n",
    "    elo_bt_join.append(get_join_elo_bt_season(season_num=season, \n",
    "                                              elo_team_season=get_elo_seasons[idx], \n",
    "                                              bt_team_season=get_bt_seasons[idx], \n",
    "                                              top_n=TOP_N))\n",
    "    \n",
    "# Create a separate rank column    \n",
    "rank_col = pd.DataFrame(list(range(1, TOP_N + 1)))\n",
    "rank_col.columns = ['rank']"
   ]
  },
  {
   "cell_type": "code",
   "execution_count": 146,
   "metadata": {},
   "outputs": [
    {
     "data": {
      "text/html": [
       "<div>\n",
       "<style scoped>\n",
       "    .dataframe tbody tr th:only-of-type {\n",
       "        vertical-align: middle;\n",
       "    }\n",
       "\n",
       "    .dataframe tbody tr th {\n",
       "        vertical-align: top;\n",
       "    }\n",
       "\n",
       "    .dataframe thead th {\n",
       "        text-align: right;\n",
       "    }\n",
       "</style>\n",
       "<table border=\"1\" class=\"dataframe\">\n",
       "  <thead>\n",
       "    <tr style=\"text-align: right;\">\n",
       "      <th></th>\n",
       "      <th>rank</th>\n",
       "      <th>ELO 2011</th>\n",
       "      <th>BT 2011</th>\n",
       "      <th>ELO 2012</th>\n",
       "      <th>BT 2012</th>\n",
       "      <th>ELO 2013</th>\n",
       "      <th>BT 2013</th>\n",
       "      <th>ELO 2014</th>\n",
       "      <th>BT 2014</th>\n",
       "      <th>ELO 2015</th>\n",
       "      <th>BT 2015</th>\n",
       "    </tr>\n",
       "  </thead>\n",
       "  <tbody>\n",
       "    <tr>\n",
       "      <th>0</th>\n",
       "      <td>1</td>\n",
       "      <td>GB</td>\n",
       "      <td>GB</td>\n",
       "      <td>NE</td>\n",
       "      <td>DEN</td>\n",
       "      <td>SEA</td>\n",
       "      <td>SF</td>\n",
       "      <td>SEA</td>\n",
       "      <td>SEA</td>\n",
       "      <td>SEA</td>\n",
       "      <td>CAR</td>\n",
       "    </tr>\n",
       "    <tr>\n",
       "      <th>1</th>\n",
       "      <td>2</td>\n",
       "      <td>NE</td>\n",
       "      <td>NO</td>\n",
       "      <td>DEN</td>\n",
       "      <td>NE</td>\n",
       "      <td>SF</td>\n",
       "      <td>SEA</td>\n",
       "      <td>NE</td>\n",
       "      <td>DEN</td>\n",
       "      <td>CAR</td>\n",
       "      <td>ARI</td>\n",
       "    </tr>\n",
       "    <tr>\n",
       "      <th>2</th>\n",
       "      <td>3</td>\n",
       "      <td>NO</td>\n",
       "      <td>NE</td>\n",
       "      <td>GB</td>\n",
       "      <td>SEA</td>\n",
       "      <td>NE</td>\n",
       "      <td>CAR</td>\n",
       "      <td>DEN</td>\n",
       "      <td>GB</td>\n",
       "      <td>ARI</td>\n",
       "      <td>KC</td>\n",
       "    </tr>\n",
       "    <tr>\n",
       "      <th>3</th>\n",
       "      <td>4</td>\n",
       "      <td>PIT</td>\n",
       "      <td>SF</td>\n",
       "      <td>SF</td>\n",
       "      <td>MIN</td>\n",
       "      <td>DEN</td>\n",
       "      <td>ARI</td>\n",
       "      <td>GB</td>\n",
       "      <td>NE</td>\n",
       "      <td>KC</td>\n",
       "      <td>SEA</td>\n",
       "    </tr>\n",
       "    <tr>\n",
       "      <th>4</th>\n",
       "      <td>5</td>\n",
       "      <td>BAL</td>\n",
       "      <td>PIT</td>\n",
       "      <td>ATL</td>\n",
       "      <td>SF</td>\n",
       "      <td>CAR</td>\n",
       "      <td>NE</td>\n",
       "      <td>DAL</td>\n",
       "      <td>DAL</td>\n",
       "      <td>DEN</td>\n",
       "      <td>DEN</td>\n",
       "    </tr>\n",
       "    <tr>\n",
       "      <th>5</th>\n",
       "      <td>6</td>\n",
       "      <td>SF</td>\n",
       "      <td>BAL</td>\n",
       "      <td>SEA</td>\n",
       "      <td>GB</td>\n",
       "      <td>CIN</td>\n",
       "      <td>DEN</td>\n",
       "      <td>PIT</td>\n",
       "      <td>PIT</td>\n",
       "      <td>NE</td>\n",
       "      <td>MIN</td>\n",
       "    </tr>\n",
       "    <tr>\n",
       "      <th>6</th>\n",
       "      <td>7</td>\n",
       "      <td>ATL</td>\n",
       "      <td>DET</td>\n",
       "      <td>NYG</td>\n",
       "      <td>HOU</td>\n",
       "      <td>NO</td>\n",
       "      <td>NO</td>\n",
       "      <td>BAL</td>\n",
       "      <td>ARI</td>\n",
       "      <td>PIT</td>\n",
       "      <td>CIN</td>\n",
       "    </tr>\n",
       "    <tr>\n",
       "      <th>7</th>\n",
       "      <td>8</td>\n",
       "      <td>PHI</td>\n",
       "      <td>ATL</td>\n",
       "      <td>CIN</td>\n",
       "      <td>IND</td>\n",
       "      <td>ARI</td>\n",
       "      <td>IND</td>\n",
       "      <td>IND</td>\n",
       "      <td>IND</td>\n",
       "      <td>CIN</td>\n",
       "      <td>PIT</td>\n",
       "    </tr>\n",
       "    <tr>\n",
       "      <th>8</th>\n",
       "      <td>9</td>\n",
       "      <td>SD</td>\n",
       "      <td>NYG</td>\n",
       "      <td>BAL</td>\n",
       "      <td>WAS</td>\n",
       "      <td>IND</td>\n",
       "      <td>CIN</td>\n",
       "      <td>ARI</td>\n",
       "      <td>DET</td>\n",
       "      <td>GB</td>\n",
       "      <td>GB</td>\n",
       "    </tr>\n",
       "    <tr>\n",
       "      <th>9</th>\n",
       "      <td>10</td>\n",
       "      <td>HOU</td>\n",
       "      <td>SD</td>\n",
       "      <td>HOU</td>\n",
       "      <td>CHI</td>\n",
       "      <td>SD</td>\n",
       "      <td>SD</td>\n",
       "      <td>CIN</td>\n",
       "      <td>BUF</td>\n",
       "      <td>MIN</td>\n",
       "      <td>DET</td>\n",
       "    </tr>\n",
       "  </tbody>\n",
       "</table>\n",
       "</div>"
      ],
      "text/plain": [
       "   rank ELO 2011 BT 2011 ELO 2012 BT 2012 ELO 2013 BT 2013 ELO 2014 BT 2014  \\\n",
       "0     1       GB      GB       NE     DEN      SEA      SF      SEA     SEA   \n",
       "1     2       NE      NO      DEN      NE       SF     SEA       NE     DEN   \n",
       "2     3       NO      NE       GB     SEA       NE     CAR      DEN      GB   \n",
       "3     4      PIT      SF       SF     MIN      DEN     ARI       GB      NE   \n",
       "4     5      BAL     PIT      ATL      SF      CAR      NE      DAL     DAL   \n",
       "5     6       SF     BAL      SEA      GB      CIN     DEN      PIT     PIT   \n",
       "6     7      ATL     DET      NYG     HOU       NO      NO      BAL     ARI   \n",
       "7     8      PHI     ATL      CIN     IND      ARI     IND      IND     IND   \n",
       "8     9       SD     NYG      BAL     WAS      IND     CIN      ARI     DET   \n",
       "9    10      HOU      SD      HOU     CHI       SD      SD      CIN     BUF   \n",
       "\n",
       "  ELO 2015 BT 2015  \n",
       "0      SEA     CAR  \n",
       "1      CAR     ARI  \n",
       "2      ARI      KC  \n",
       "3       KC     SEA  \n",
       "4      DEN     DEN  \n",
       "5       NE     MIN  \n",
       "6      PIT     CIN  \n",
       "7      CIN     PIT  \n",
       "8       GB      GB  \n",
       "9      MIN     DET  "
      ]
     },
     "execution_count": 146,
     "metadata": {},
     "output_type": "execute_result"
    }
   ],
   "source": [
    "out_elo_bt = pd.concat(elo_bt_join[-5:], sort=False, axis=1)\n",
    "out_elo_bt = pd.concat([rank_col, out_elo_bt], sort=False, axis=1)\n",
    "out_elo_bt"
   ]
  },
  {
   "cell_type": "code",
   "execution_count": 147,
   "metadata": {},
   "outputs": [
    {
     "name": "stdout",
     "output_type": "stream",
     "text": [
      "\\begin{tabular}{c|c|c|c|c|c|c|c|c|c|c|c|c|c|}\n",
      "\\toprule\n",
      " rank & ELO 2011 & BT 2011 & ELO 2012 & BT 2012 & ELO 2013 & BT 2013 & ELO 2014 & BT 2014 & ELO 2015 & BT 2015 \\\\\n",
      "\\midrule\n",
      "    1 &       GB &      GB &       NE &     DEN &      SEA &      SF &      SEA &     SEA &      SEA &     CAR \\\\\n",
      "    2 &       NE &      NO &      DEN &      NE &       SF &     SEA &       NE &     DEN &      CAR &     ARI \\\\\n",
      "    3 &       NO &      NE &       GB &     SEA &       NE &     CAR &      DEN &      GB &      ARI &      KC \\\\\n",
      "    4 &      PIT &      SF &       SF &     MIN &      DEN &     ARI &       GB &      NE &       KC &     SEA \\\\\n",
      "    5 &      BAL &     PIT &      ATL &      SF &      CAR &      NE &      DAL &     DAL &      DEN &     DEN \\\\\n",
      "    6 &       SF &     BAL &      SEA &      GB &      CIN &     DEN &      PIT &     PIT &       NE &     MIN \\\\\n",
      "    7 &      ATL &     DET &      NYG &     HOU &       NO &      NO &      BAL &     ARI &      PIT &     CIN \\\\\n",
      "    8 &      PHI &     ATL &      CIN &     IND &      ARI &     IND &      IND &     IND &      CIN &     PIT \\\\\n",
      "    9 &       SD &     NYG &      BAL &     WAS &      IND &     CIN &      ARI &     DET &       GB &      GB \\\\\n",
      "   10 &      HOU &      SD &      HOU &     CHI &       SD &      SD &      CIN &     BUF &      MIN &     DET \\\\\n",
      "\\bottomrule\n",
      "\\end{tabular}\n",
      "\n"
     ]
    }
   ],
   "source": [
    "print(out_elo_bt.to_latex(index_names=False, escape=False, index=False, \n",
    "                          column_format='c|c|c|c|c|c|c|c|c|c|c|c|c|c|', \n",
    "                          header=True, bold_rows=True))"
   ]
  },
  {
   "cell_type": "markdown",
   "metadata": {},
   "source": [
    "## Calculate average differences for each season from ELO to BTL"
   ]
  },
  {
   "cell_type": "code",
   "execution_count": null,
   "metadata": {},
   "outputs": [],
   "source": [
    "av_dif = []\n",
    "for i in range(7):\n",
    "    a = elo_out_seasons[i]\n",
    "    b = bt_out_seasons[i].sort_index()\n",
    "    av_dif.append(np.mean(abs(a-b)))"
   ]
  },
  {
   "cell_type": "code",
   "execution_count": 9,
   "metadata": {},
   "outputs": [
    {
     "data": {
      "text/plain": [
       "[rank    1.875\n",
       " dtype: float64, rank    2.9375\n",
       " dtype: float64, rank    2.8125\n",
       " dtype: float64, rank    3.1875\n",
       " dtype: float64, rank    2.6875\n",
       " dtype: float64, rank    1.9375\n",
       " dtype: float64, rank    2.6875\n",
       " dtype: float64]"
      ]
     },
     "execution_count": 9,
     "metadata": {},
     "output_type": "execute_result"
    }
   ],
   "source": [
    "av_dif"
   ]
  }
 ],
 "metadata": {
  "kernelspec": {
   "display_name": "Python 3",
   "language": "python",
   "name": "python3"
  },
  "language_info": {
   "codemirror_mode": {
    "name": "ipython",
    "version": 3
   },
   "file_extension": ".py",
   "mimetype": "text/x-python",
   "name": "python",
   "nbconvert_exporter": "python",
   "pygments_lexer": "ipython3",
   "version": "3.7.3"
  }
 },
 "nbformat": 4,
 "nbformat_minor": 2
}
